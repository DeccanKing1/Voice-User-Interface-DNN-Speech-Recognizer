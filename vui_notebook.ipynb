{
 "cells": [
  {
   "cell_type": "markdown",
   "metadata": {},
   "source": [
    "# Artificial Intelligence Nanodegree\n",
    "\n",
    "## Voice User Interfaces\n",
    "\n",
    "## Project: Speech Recognition with Neural Networks\n",
    "\n",
    "---\n",
    "\n",
    "In this notebook, some template code has already been provided for you, and you will need to implement additional functionality to successfully complete this project. You will not need to modify the included code beyond what is requested. Sections that begin with **'(IMPLEMENTATION)'** in the header indicate that the following blocks of code will require additional functionality which you must provide. Please be sure to read the instructions carefully! \n",
    "\n",
    "> **Note**: Once you have completed all of the code implementations, you need to finalize your work by exporting the Jupyter Notebook as an HTML document. Before exporting the notebook to html, all of the code cells need to have been run so that reviewers can see the final implementation and output. You can then export the notebook by using the menu above and navigating to  \\n\",\n",
    "    \"**File -> Download as -> HTML (.html)**. Include the finished document along with this notebook as your submission.\n",
    "\n",
    "In addition to implementing code, there will be questions that you must answer which relate to the project and your implementation. Each section where you will answer a question is preceded by a **'Question X'** header. Carefully read each question and provide thorough answers in the following text boxes that begin with **'Answer:'**. Your project submission will be evaluated based on your answers to each of the questions and the implementation you provide.\n",
    "\n",
    ">**Note:** Code and Markdown cells can be executed using the **Shift + Enter** keyboard shortcut.  Markdown cells can be edited by double-clicking the cell to enter edit mode.\n",
    "\n",
    "The rubric contains _optional_ \"Stand Out Suggestions\" for enhancing the project beyond the minimum requirements. If you decide to pursue the \"Stand Out Suggestions\", you should include the code in this Jupyter notebook.\n",
    "\n",
    "---\n",
    "\n",
    "## Introduction  \n",
    "\n",
    "In this notebook, you will build a deep neural network that functions as part of an end-to-end automatic speech recognition (ASR) pipeline!  Your completed pipeline will accept raw audio as input and return a predicted transcription of the spoken language.  The full pipeline is summarized in the figure below.\n",
    "\n",
    "<img src=\"images/pipeline.png\">\n",
    "\n",
    "- **STEP 1** is a pre-processing step that converts raw audio to one of two feature representations that are commonly used for ASR. \n",
    "- **STEP 2** is an acoustic model which accepts audio features as input and returns a probability distribution over all potential transcriptions.  After learning about the basic types of neural networks that are often used for acoustic modeling, you will engage in your own investigations, to design your own acoustic model!\n",
    "- **STEP 3** in the pipeline takes the output from the acoustic model and returns a predicted transcription.  \n",
    "\n",
    "Feel free to use the links below to navigate the notebook:\n",
    "- [The Data](#thedata)\n",
    "- [**STEP 1**](#step1): Acoustic Features for Speech Recognition\n",
    "- [**STEP 2**](#step2): Deep Neural Networks for Acoustic Modeling\n",
    "    - [Model 0](#model0): RNN\n",
    "    - [Model 1](#model1): RNN + TimeDistributed Dense\n",
    "    - [Model 2](#model2): CNN + RNN + TimeDistributed Dense\n",
    "    - [Model 3](#model3): Deeper RNN + TimeDistributed Dense\n",
    "    - [Model 4](#model4): Bidirectional RNN + TimeDistributed Dense\n",
    "    - [Models 5+](#model5)\n",
    "    - [Compare the Models](#compare)\n",
    "    - [Final Model](#final)\n",
    "- [**STEP 3**](#step3): Obtain Predictions\n",
    "\n",
    "<a id='thedata'></a>\n",
    "## The Data\n",
    "\n",
    "We begin by investigating the dataset that will be used to train and evaluate your pipeline.  [LibriSpeech](http://www.danielpovey.com/files/2015_icassp_librispeech.pdf) is a large corpus of English-read speech, designed for training and evaluating models for ASR.  The dataset contains 1000 hours of speech derived from audiobooks.  We will work with a small subset in this project, since larger-scale data would take a long while to train.  However, after completing this project, if you are interested in exploring further, you are encouraged to work with more of the data that is provided [online](http://www.openslr.org/12/).\n",
    "\n",
    "In the code cells below, you will use the `vis_train_features` module to visualize a training example.  The supplied argument `index=0` tells the module to extract the first example in the training set.  (You are welcome to change `index=0` to point to a different training example, if you like, but please **DO NOT** amend any other code in the cell.)  The returned variables are:\n",
    "- `vis_text` - transcribed text (label) for the training example.\n",
    "- `vis_raw_audio` - raw audio waveform for the training example.\n",
    "- `vis_mfcc_feature` - mel-frequency cepstral coefficients (MFCCs) for the training example.\n",
    "- `vis_spectrogram_feature` - spectrogram for the training example. \n",
    "- `vis_audio_path` - the file path to the training example."
   ]
  },
  {
   "cell_type": "code",
   "execution_count": null,
   "metadata": {
    "scrolled": false
   },
   "outputs": [],
   "source": [
    "from data_generator import vis_train_features\n",
    "\n",
    "# extract label and audio features for a single training example\n",
    "vis_text, vis_raw_audio, vis_mfcc_feature, vis_spectrogram_feature, vis_audio_path = vis_train_features()"
   ]
  },
  {
   "cell_type": "markdown",
   "metadata": {},
   "source": [
    "The following code cell visualizes the audio waveform for your chosen example, along with the corresponding transcript.  You also have the option to play the audio in the notebook!"
   ]
  },
  {
   "cell_type": "code",
   "execution_count": null,
   "metadata": {},
   "outputs": [],
   "source": [
    "from IPython.display import Markdown, display\n",
    "from data_generator import vis_train_features, plot_raw_audio\n",
    "from IPython.display import Audio\n",
    "%matplotlib inline\n",
    "\n",
    "# plot audio signal\n",
    "plot_raw_audio(vis_raw_audio)\n",
    "# print length of audio signal\n",
    "display(Markdown('**Shape of Audio Signal** : ' + str(vis_raw_audio.shape)))\n",
    "# print transcript corresponding to audio clip\n",
    "display(Markdown('**Transcript** : ' + str(vis_text)))\n",
    "# play the audio file\n",
    "Audio(vis_audio_path)"
   ]
  },
  {
   "cell_type": "markdown",
   "metadata": {},
   "source": [
    "<a id='step1'></a>\n",
    "## STEP 1: Acoustic Features for Speech Recognition\n",
    "\n",
    "For this project, you won't use the raw audio waveform as input to your model.  Instead, we provide code that first performs a pre-processing step to convert the raw audio to a feature representation that has historically proven successful for ASR models.  Your acoustic model will accept the feature representation as input.\n",
    "\n",
    "In this project, you will explore two possible feature representations.  _After completing the project_, if you'd like to read more about deep learning architectures that can accept raw audio input, you are encouraged to explore this [research paper](https://pdfs.semanticscholar.org/a566/cd4a8623d661a4931814d9dffc72ecbf63c4.pdf).\n",
    "\n",
    "### Spectrograms\n",
    "\n",
    "The first option for an audio feature representation is the [spectrogram](https://www.youtube.com/watch?v=_FatxGN3vAM).  In order to complete this project, you will **not** need to dig deeply into the details of how a spectrogram is calculated; but, if you are curious, the code for calculating the spectrogram was borrowed from [this repository](https://github.com/baidu-research/ba-dls-deepspeech).  The implementation appears in the `utils.py` file in your repository.\n",
    "\n",
    "The code that we give you returns the spectrogram as a 2D tensor, where the first (_vertical_) dimension indexes time, and the second (_horizontal_) dimension indexes frequency.  To speed the convergence of your algorithm, we have also normalized the spectrogram.  (You can see this quickly in the visualization below by noting that the mean value hovers around zero, and most entries in the tensor assume values close to zero.)"
   ]
  },
  {
   "cell_type": "code",
   "execution_count": null,
   "metadata": {},
   "outputs": [],
   "source": [
    "from data_generator import plot_spectrogram_feature\n",
    "\n",
    "# plot normalized spectrogram\n",
    "plot_spectrogram_feature(vis_spectrogram_feature)\n",
    "# print shape of spectrogram\n",
    "display(Markdown('**Shape of Spectrogram** : ' + str(vis_spectrogram_feature.shape)))"
   ]
  },
  {
   "cell_type": "markdown",
   "metadata": {},
   "source": [
    "### Mel-Frequency Cepstral Coefficients (MFCCs)\n",
    "\n",
    "The second option for an audio feature representation is [MFCCs](https://en.wikipedia.org/wiki/Mel-frequency_cepstrum).  You do **not** need to dig deeply into the details of how MFCCs are calculated, but if you would like more information, you are welcome to peruse the [documentation](https://github.com/jameslyons/python_speech_features) of the `python_speech_features` Python package.  Just as with the spectrogram features, the MFCCs are normalized in the supplied code.\n",
    "\n",
    "The main idea behind MFCC features is the same as spectrogram features: at each time window, the MFCC feature yields a feature vector that characterizes the sound within the window.  Note that the MFCC feature is much lower-dimensional than the spectrogram feature, which could help an acoustic model to avoid overfitting to the training dataset. "
   ]
  },
  {
   "cell_type": "code",
   "execution_count": null,
   "metadata": {},
   "outputs": [],
   "source": [
    "from data_generator import plot_mfcc_feature\n",
    "\n",
    "# plot normalized MFCC\n",
    "plot_mfcc_feature(vis_mfcc_feature)\n",
    "# print shape of MFCC\n",
    "display(Markdown('**Shape of MFCC** : ' + str(vis_mfcc_feature.shape)))"
   ]
  },
  {
   "cell_type": "markdown",
   "metadata": {},
   "source": [
    "When you construct your pipeline, you will be able to choose to use either spectrogram or MFCC features.  If you would like to see different implementations that make use of MFCCs and/or spectrograms, please check out the links below:\n",
    "- This [repository](https://github.com/baidu-research/ba-dls-deepspeech) uses spectrograms.\n",
    "- This [repository](https://github.com/mozilla/DeepSpeech) uses MFCCs.\n",
    "- This [repository](https://github.com/buriburisuri/speech-to-text-wavenet) also uses MFCCs.\n",
    "- This [repository](https://github.com/pannous/tensorflow-speech-recognition/blob/master/speech_data.py) experiments with raw audio, spectrograms, and MFCCs as features."
   ]
  },
  {
   "cell_type": "markdown",
   "metadata": {},
   "source": [
    "<a id='step2'></a>\n",
    "## STEP 2: Deep Neural Networks for Acoustic Modeling\n",
    "\n",
    "In this section, you will experiment with various neural network architectures for acoustic modeling.  \n",
    "\n",
    "You will begin by training five relatively simple architectures.  **Model 0** is provided for you.  You will write code to implement **Models 1**, **2**, **3**, and **4**.  If you would like to experiment further, you are welcome to create and train more models under the **Models 5+** heading.  \n",
    "\n",
    "All models will be specified in the `sample_models.py` file.  After importing the `sample_models` module, you will train your architectures in the notebook.\n",
    "\n",
    "After experimenting with the five simple architectures, you will have the opportunity to compare their performance.  Based on your findings, you will construct a deeper architecture that is designed to outperform all of the shallow models.\n",
    "\n",
    "For your convenience, we have designed the notebook so that each model can be specified and trained on separate occasions.  That is, say you decide to take a break from the notebook after training **Model 1**.  Then, you need not re-execute all prior code cells in the notebook before training **Model 2**.  You need only re-execute the code cell below, that is marked with **`RUN THIS CODE CELL IF YOU ARE RESUMING THE NOTEBOOK AFTER A BREAK`**, before transitioning to the code cells corresponding to **Model 2**."
   ]
  },
  {
   "cell_type": "code",
   "execution_count": 1,
   "metadata": {},
   "outputs": [
    {
     "name": "stderr",
     "output_type": "stream",
     "text": [
      "Using TensorFlow backend.\n"
     ]
    }
   ],
   "source": [
    "#####################################################################\n",
    "# RUN THIS CODE CELL IF YOU ARE RESUMING THE NOTEBOOK AFTER A BREAK #\n",
    "#####################################################################\n",
    "\n",
    "# allocate 50% of GPU memory (if you like, feel free to change this)\n",
    "from keras.backend.tensorflow_backend import set_session\n",
    "import tensorflow as tf \n",
    "config = tf.ConfigProto()\n",
    "config.gpu_options.per_process_gpu_memory_fraction = 0.5\n",
    "set_session(tf.Session(config=config))\n",
    "\n",
    "# watch for any changes in the sample_models module, and reload it automatically\n",
    "%load_ext autoreload\n",
    "%autoreload 2\n",
    "# import NN architectures for speech recognition\n",
    "from sample_models import *\n",
    "# import function for training acoustic model\n",
    "from train_utils import train_model"
   ]
  },
  {
   "cell_type": "markdown",
   "metadata": {},
   "source": [
    "<a id='model0'></a>\n",
    "### Model 0: RNN\n",
    "\n",
    "Given their effectiveness in modeling sequential data, the first acoustic model you will use is an RNN.  As shown in the figure below, the RNN we supply to you will take the time sequence of audio features as input.\n",
    "\n",
    "<img src=\"images/simple_rnn.png\" width=\"50%\">\n",
    "\n",
    "At each time step, the speaker pronounces one of 28 possible characters, including each of the 26 letters in the English alphabet, along with a space character (\" \"), and an apostrophe (').\n",
    "\n",
    "The output of the RNN at each time step is a vector of probabilities with 29 entries, where the $i$-th entry encodes the probability that the $i$-th character is spoken in the time sequence.  (The extra 29th character is an empty \"character\" used to pad training examples within batches containing uneven lengths.)  If you would like to peek under the hood at how characters are mapped to indices in the probability vector, look at the `char_map.py` file in the repository.  The figure below shows an equivalent, rolled depiction of the RNN that shows the output layer in greater detail. \n",
    "\n",
    "<img src=\"images/simple_rnn_unrolled.png\" width=\"60%\">\n",
    "\n",
    "The model has already been specified for you in Keras.  To import it, you need only run the code cell below.  "
   ]
  },
  {
   "cell_type": "code",
   "execution_count": 67,
   "metadata": {},
   "outputs": [
    {
     "name": "stdout",
     "output_type": "stream",
     "text": [
      "_________________________________________________________________\n",
      "Layer (type)                 Output Shape              Param #   \n",
      "=================================================================\n",
      "the_input (InputLayer)       (None, None, 161)         0         \n",
      "_________________________________________________________________\n",
      "rnn (GRU)                    (None, None, 29)          16617     \n",
      "_________________________________________________________________\n",
      "softmax (Activation)         (None, None, 29)          0         \n",
      "=================================================================\n",
      "Total params: 16,617\n",
      "Trainable params: 16,617\n",
      "Non-trainable params: 0\n",
      "_________________________________________________________________\n",
      "None\n"
     ]
    }
   ],
   "source": [
    "model_0 = simple_rnn_model(input_dim=161) # change to 13 if you would like to use MFCC features"
   ]
  },
  {
   "cell_type": "markdown",
   "metadata": {},
   "source": [
    "As explored in the lesson, you will train the acoustic model with the [CTC loss](http://www.cs.toronto.edu/~graves/icml_2006.pdf) criterion.  Custom loss functions take a bit of hacking in Keras, and so we have implemented the CTC loss function for you, so that you can focus on trying out as many deep learning architectures as possible :).  If you'd like to peek at the implementation details, look at the `add_ctc_loss` function within the `train_utils.py` file in the repository.\n",
    "\n",
    "To train your architecture, you will use the `train_model` function within the `train_utils` module; it has already been imported in one of the above code cells.  The `train_model` function takes three **required** arguments:\n",
    "- `input_to_softmax` - a Keras model instance.\n",
    "- `pickle_path` - the name of the pickle file where the loss history will be saved.\n",
    "- `save_model_path` - the name of the HDF5 file where the model will be saved.\n",
    "\n",
    "If we have already supplied values for `input_to_softmax`, `pickle_path`, and `save_model_path`, please **DO NOT** modify these values. \n",
    "\n",
    "There are several **optional** arguments that allow you to have more control over the training process.  You are welcome to, but not required to, supply your own values for these arguments.\n",
    "- `minibatch_size` - the size of the minibatches that are generated while training the model (default: `20`).\n",
    "- `spectrogram` - Boolean value dictating whether spectrogram (`True`) or MFCC (`False`) features are used for training (default: `True`).\n",
    "- `mfcc_dim` - the size of the feature dimension to use when generating MFCC features (default: `13`).\n",
    "- `optimizer` - the Keras optimizer used to train the model (default: `SGD(lr=0.02, decay=1e-6, momentum=0.9, nesterov=True, clipnorm=5)`).  \n",
    "- `epochs` - the number of epochs to use to train the model (default: `20`).  If you choose to modify this parameter, make sure that it is *at least* 20.\n",
    "- `verbose` - controls the verbosity of the training output in the `model.fit_generator` method (default: `1`).\n",
    "- `sort_by_duration` - Boolean value dictating whether the training and validation sets are sorted by (increasing) duration before the start of the first epoch (default: `False`).\n",
    "\n",
    "The `train_model` function defaults to using spectrogram features; if you choose to use these features, note that the acoustic model in `simple_rnn_model` should have `input_dim=161`.  Otherwise, if you choose to use MFCC features, the acoustic model should have `input_dim=13`.\n",
    "\n",
    "We have chosen to use `GRU` units in the supplied RNN.  If you would like to experiment with `LSTM` or `SimpleRNN` cells, feel free to do so here.  If you change the `GRU` units to `SimpleRNN` cells in `simple_rnn_model`, you may notice that the loss quickly becomes undefined (`nan`) - you are strongly encouraged to check this for yourself!  This is due to the [exploding gradients problem](http://www.wildml.com/2015/10/recurrent-neural-networks-tutorial-part-3-backpropagation-through-time-and-vanishing-gradients/).  We have already implemented [gradient clipping](https://arxiv.org/pdf/1211.5063.pdf) in your optimizer to help you avoid this issue.\n",
    "\n",
    "__IMPORTANT NOTE:__ If you notice that your gradient has exploded in any of the models below, feel free to explore more with gradient clipping (the `clipnorm` argument in your optimizer) or swap out any `SimpleRNN` cells for `LSTM` or `GRU` cells.  You can also try restarting the kernel to restart the training process."
   ]
  },
  {
   "cell_type": "code",
   "execution_count": 4,
   "metadata": {},
   "outputs": [
    {
     "name": "stdout",
     "output_type": "stream",
     "text": [
      "Epoch 1/20\n",
      "101/101 [==============================] - 206s 2s/step - loss: 864.4199 - val_loss: 758.3483\n",
      "Epoch 2/20\n",
      "101/101 [==============================] - 203s 2s/step - loss: 779.8355 - val_loss: 759.9232\n",
      "Epoch 3/20\n",
      "101/101 [==============================] - 206s 2s/step - loss: 779.3811 - val_loss: 751.8836\n",
      "Epoch 4/20\n",
      "101/101 [==============================] - 205s 2s/step - loss: 779.3271 - val_loss: 763.3141\n",
      "Epoch 5/20\n",
      "101/101 [==============================] - 204s 2s/step - loss: 779.2714 - val_loss: 756.1462\n",
      "Epoch 6/20\n",
      "101/101 [==============================] - 205s 2s/step - loss: 779.4237 - val_loss: 759.2927\n",
      "Epoch 7/20\n",
      "101/101 [==============================] - 204s 2s/step - loss: 779.0122 - val_loss: 753.3127\n",
      "Epoch 8/20\n",
      "101/101 [==============================] - 205s 2s/step - loss: 779.3872 - val_loss: 751.2173\n",
      "Epoch 9/20\n",
      "101/101 [==============================] - 205s 2s/step - loss: 778.6680 - val_loss: 764.9987\n",
      "Epoch 10/20\n",
      "101/101 [==============================] - 205s 2s/step - loss: 779.3202 - val_loss: 754.2395\n",
      "Epoch 11/20\n",
      "101/101 [==============================] - 205s 2s/step - loss: 779.6654 - val_loss: 759.2901\n",
      "Epoch 12/20\n",
      "101/101 [==============================] - 206s 2s/step - loss: 779.5006 - val_loss: 757.7928\n",
      "Epoch 13/20\n",
      "101/101 [==============================] - 203s 2s/step - loss: 779.0800 - val_loss: 755.1377\n",
      "Epoch 14/20\n",
      "101/101 [==============================] - 203s 2s/step - loss: 779.2520 - val_loss: 754.9398\n",
      "Epoch 15/20\n",
      "101/101 [==============================] - 205s 2s/step - loss: 779.0385 - val_loss: 763.6783\n",
      "Epoch 16/20\n",
      "101/101 [==============================] - 203s 2s/step - loss: 779.4492 - val_loss: 752.8924\n",
      "Epoch 17/20\n",
      "101/101 [==============================] - 204s 2s/step - loss: 779.4597 - val_loss: 751.3970\n",
      "Epoch 18/20\n",
      "101/101 [==============================] - 204s 2s/step - loss: 778.8910 - val_loss: 760.5307\n",
      "Epoch 19/20\n",
      "101/101 [==============================] - 205s 2s/step - loss: 779.0376 - val_loss: 757.1174\n",
      "Epoch 20/20\n",
      "101/101 [==============================] - 203s 2s/step - loss: 779.3442 - val_loss: 760.0114\n"
     ]
    }
   ],
   "source": [
    "train_model(input_to_softmax=model_0, \n",
    "            pickle_path='model_0.pickle', \n",
    "            save_model_path='model_0.h5',\n",
    "            spectrogram=True) # change to False if you would like to use MFCC features"
   ]
  },
  {
   "cell_type": "markdown",
   "metadata": {},
   "source": [
    "<a id='model1'></a>\n",
    "### (IMPLEMENTATION) Model 1: RNN + TimeDistributed Dense\n",
    "\n",
    "Read about the [TimeDistributed](https://keras.io/layers/wrappers/) wrapper and the [BatchNormalization](https://keras.io/layers/normalization/) layer in the Keras documentation.  For your next architecture, you will add [batch normalization](https://arxiv.org/pdf/1510.01378.pdf) to the recurrent layer to reduce training times.  The `TimeDistributed` layer will be used to find more complex patterns in the dataset.  The unrolled snapshot of the architecture is depicted below.\n",
    "\n",
    "<img src=\"images/rnn_model.png\" width=\"60%\">\n",
    "\n",
    "The next figure shows an equivalent, rolled depiction of the RNN that shows the (`TimeDistrbuted`) dense and output layers in greater detail.  \n",
    "\n",
    "<img src=\"images/rnn_model_unrolled.png\" width=\"60%\">\n",
    "\n",
    "Use your research to complete the `rnn_model` function within the `sample_models.py` file.  The function should specify an architecture that satisfies the following requirements:\n",
    "- The first layer of the neural network should be an RNN (`SimpleRNN`, `LSTM`, or `GRU`) that takes the time sequence of audio features as input.  We have added `GRU` units for you, but feel free to change `GRU` to `SimpleRNN` or `LSTM`, if you like!\n",
    "- Whereas the architecture in `simple_rnn_model` treated the RNN output as the final layer of the model, you will use the output of your RNN as a hidden layer.  Use `TimeDistributed` to apply a `Dense` layer to each of the time steps in the RNN output.  Ensure that each `Dense` layer has `output_dim` units.\n",
    "\n",
    "Use the code cell below to load your model into the `model_1` variable.  Use a value for `input_dim` that matches your chosen audio features, and feel free to change the values for `units` and `activation` to tweak the behavior of your recurrent layer."
   ]
  },
  {
   "cell_type": "code",
   "execution_count": null,
   "metadata": {},
   "outputs": [],
   "source": []
  },
  {
   "cell_type": "code",
   "execution_count": null,
   "metadata": {
    "scrolled": true
   },
   "outputs": [],
   "source": [
    "model_1 = rnn_model(input_dim=13, # change to 13 if you would like to use MFCC features\n",
    "                    units=200,\n",
    "                    activation='relu')"
   ]
  },
  {
   "cell_type": "markdown",
   "metadata": {},
   "source": [
    "Please execute the code cell below to train the neural network you specified in `input_to_softmax`.  After the model has finished training, the model is [saved](https://keras.io/getting-started/faq/#how-can-i-save-a-keras-model) in the HDF5 file `model_1.h5`.  The loss history is [saved](https://wiki.python.org/moin/UsingPickle) in `model_1.pickle`.  You are welcome to tweak any of the optional parameters while calling the `train_model` function, but this is not required."
   ]
  },
  {
   "cell_type": "code",
   "execution_count": 80,
   "metadata": {},
   "outputs": [
    {
     "name": "stdout",
     "output_type": "stream",
     "text": [
      "Epoch 1/20\n",
      "101/101 [==============================] - 206s 2s/step - loss: 358.8145 - val_loss: 425.4882\n",
      "Epoch 2/20\n",
      "101/101 [==============================] - 206s 2s/step - loss: 232.1691 - val_loss: 206.9749\n",
      "Epoch 3/20\n",
      "101/101 [==============================] - 208s 2s/step - loss: 202.5549 - val_loss: 190.5038\n",
      "Epoch 4/20\n",
      "101/101 [==============================] - 206s 2s/step - loss: 185.7000 - val_loss: 176.7528\n",
      "Epoch 5/20\n",
      "101/101 [==============================] - 206s 2s/step - loss: 173.8193 - val_loss: 164.6398\n",
      "Epoch 6/20\n",
      "101/101 [==============================] - 206s 2s/step - loss: 166.5890 - val_loss: 159.1556\n",
      "Epoch 7/20\n",
      "101/101 [==============================] - 208s 2s/step - loss: 161.2836 - val_loss: 158.8167\n",
      "Epoch 8/20\n",
      "101/101 [==============================] - 206s 2s/step - loss: 158.2259 - val_loss: 155.0516\n",
      "Epoch 9/20\n",
      "101/101 [==============================] - 205s 2s/step - loss: 155.4898 - val_loss: 154.2617\n",
      "Epoch 10/20\n",
      "101/101 [==============================] - 203s 2s/step - loss: 151.9682 - val_loss: 151.1100\n",
      "Epoch 11/20\n",
      "101/101 [==============================] - 207s 2s/step - loss: 150.1312 - val_loss: 148.8902\n",
      "Epoch 12/20\n",
      "101/101 [==============================] - 208s 2s/step - loss: 150.2735 - val_loss: 148.9647\n",
      "Epoch 13/20\n",
      "101/101 [==============================] - 206s 2s/step - loss: 149.4981 - val_loss: 149.5874\n",
      "Epoch 14/20\n",
      "101/101 [==============================] - 204s 2s/step - loss: 148.8308 - val_loss: 147.0335\n",
      "Epoch 15/20\n",
      "101/101 [==============================] - 207s 2s/step - loss: 147.8025 - val_loss: 149.5392\n",
      "Epoch 16/20\n",
      "101/101 [==============================] - 206s 2s/step - loss: 149.9930 - val_loss: 150.0520\n",
      "Epoch 17/20\n",
      "101/101 [==============================] - 206s 2s/step - loss: 149.3757 - val_loss: 154.9064\n",
      "Epoch 18/20\n",
      "101/101 [==============================] - 207s 2s/step - loss: 159.3938 - val_loss: 167.2272\n",
      "Epoch 19/20\n",
      "101/101 [==============================] - 206s 2s/step - loss: 190.7703 - val_loss: 595.6697\n",
      "Epoch 20/20\n",
      "101/101 [==============================] - 185s 2s/step - loss: nan - val_loss: nan\n"
     ]
    }
   ],
   "source": [
    "\n",
    "train_model(input_to_softmax=model_1, \n",
    "            pickle_path='model_1.pickle', \n",
    "            save_model_path='model_1.h5',\n",
    "            \n",
    "            spectrogram=True) # change to False if you would like to use MFCC features"
   ]
  },
  {
   "cell_type": "code",
   "execution_count": null,
   "metadata": {},
   "outputs": [],
   "source": []
  },
  {
   "cell_type": "code",
   "execution_count": null,
   "metadata": {},
   "outputs": [],
   "source": [
    "##### As we can see loss became nan in last epoch, it is classic RNN exploding gradient problem,\n",
    "##### even after adding dropout and normalization we could not avoid exploding gradient problem, \n",
    "##### we might want to look into gradient clipping value and change it\n"
   ]
  },
  {
   "cell_type": "markdown",
   "metadata": {},
   "source": [
    "<a id='model2'></a>\n",
    "### (IMPLEMENTATION) Model 2: CNN + RNN + TimeDistributed Dense\n",
    "\n",
    "The architecture in `cnn_rnn_model` adds an additional level of complexity, by introducing a [1D convolution layer](https://keras.io/layers/convolutional/#conv1d).  \n",
    "\n",
    "<img src=\"images/cnn_rnn_model.png\" width=\"100%\">\n",
    "\n",
    "This layer incorporates many arguments that can be (optionally) tuned when calling the `cnn_rnn_model` module.  We provide sample starting parameters, which you might find useful if you choose to use spectrogram audio features.  \n",
    "\n",
    "If you instead want to use MFCC features, these arguments will have to be tuned.  Note that the current architecture only supports values of `'same'` or `'valid'` for the `conv_border_mode` argument.\n",
    "\n",
    "When tuning the parameters, be careful not to choose settings that make the convolutional layer overly small.  If the temporal length of the CNN layer is shorter than the length of the transcribed text label, your code will throw an error.\n",
    "\n",
    "Before running the code cell below, you must modify the `cnn_rnn_model` function in `sample_models.py`.  Please add batch normalization to the recurrent layer, and provide the same `TimeDistributed` layer as before."
   ]
  },
  {
   "cell_type": "code",
   "execution_count": 86,
   "metadata": {},
   "outputs": [
    {
     "name": "stderr",
     "output_type": "stream",
     "text": [
      "/opt/conda/lib/python3.6/site-packages/keras/layers/recurrent.py:1004: UserWarning: The `implementation` argument in `SimpleRNN` has been deprecated. Please remove it from your layer call.\n",
      "  warnings.warn('The `implementation` argument '\n"
     ]
    },
    {
     "name": "stdout",
     "output_type": "stream",
     "text": [
      "_________________________________________________________________\n",
      "Layer (type)                 Output Shape              Param #   \n",
      "=================================================================\n",
      "the_input (InputLayer)       (None, None, 13)          0         \n",
      "_________________________________________________________________\n",
      "conv1d (Conv1D)              (None, None, 200)         28800     \n",
      "_________________________________________________________________\n",
      "bn_conv_1d (BatchNormalizati (None, None, 200)         800       \n",
      "_________________________________________________________________\n",
      "rnn (SimpleRNN)              (None, None, 200)         80200     \n",
      "_________________________________________________________________\n",
      "bn_rnn (BatchNormalization)  (None, None, 200)         800       \n",
      "_________________________________________________________________\n",
      "time_dense (TimeDistributed) (None, None, 29)          5829      \n",
      "_________________________________________________________________\n",
      "softmax (Activation)         (None, None, 29)          0         \n",
      "=================================================================\n",
      "Total params: 116,429\n",
      "Trainable params: 115,629\n",
      "Non-trainable params: 800\n",
      "_________________________________________________________________\n",
      "None\n"
     ]
    }
   ],
   "source": [
    "model_2 = cnn_rnn_model(input_dim=13, # change to 13 if you would like to use MFCC features\n",
    "                        filters=200,\n",
    "                        kernel_size=11, \n",
    "                        conv_stride=2,\n",
    "                        conv_border_mode='valid',\n",
    "                        units=200)"
   ]
  },
  {
   "cell_type": "markdown",
   "metadata": {},
   "source": [
    "Please execute the code cell below to train the neural network you specified in `input_to_softmax`.  After the model has finished training, the model is [saved](https://keras.io/getting-started/faq/#how-can-i-save-a-keras-model) in the HDF5 file `model_2.h5`.  The loss history is [saved](https://wiki.python.org/moin/UsingPickle) in `model_2.pickle`.  You are welcome to tweak any of the optional parameters while calling the `train_model` function, but this is not required."
   ]
  },
  {
   "cell_type": "code",
   "execution_count": 87,
   "metadata": {},
   "outputs": [
    {
     "name": "stdout",
     "output_type": "stream",
     "text": [
      "Epoch 1/20\n",
      "101/101 [==============================] - 123s 1s/step - loss: 235.0813 - val_loss: 222.3444\n",
      "Epoch 2/20\n",
      "101/101 [==============================] - 112s 1s/step - loss: 177.6563 - val_loss: 167.8458\n",
      "Epoch 3/20\n",
      "101/101 [==============================] - 111s 1s/step - loss: 153.7333 - val_loss: 153.3115\n",
      "Epoch 4/20\n",
      "101/101 [==============================] - 111s 1s/step - loss: 142.3716 - val_loss: 145.2802\n",
      "Epoch 5/20\n",
      "101/101 [==============================] - 115s 1s/step - loss: 134.9737 - val_loss: 141.8250\n",
      "Epoch 6/20\n",
      "101/101 [==============================] - 115s 1s/step - loss: 129.4569 - val_loss: 137.8841\n",
      "Epoch 7/20\n",
      "101/101 [==============================] - 114s 1s/step - loss: 125.2124 - val_loss: 137.0374\n",
      "Epoch 8/20\n",
      "101/101 [==============================] - 114s 1s/step - loss: 121.5793 - val_loss: 136.2162\n",
      "Epoch 9/20\n",
      "101/101 [==============================] - 115s 1s/step - loss: 118.7502 - val_loss: 134.7947\n",
      "Epoch 10/20\n",
      "101/101 [==============================] - 113s 1s/step - loss: 115.9899 - val_loss: 134.0031\n",
      "Epoch 11/20\n",
      "101/101 [==============================] - 114s 1s/step - loss: 113.4906 - val_loss: 132.9678\n",
      "Epoch 12/20\n",
      "101/101 [==============================] - 113s 1s/step - loss: 111.7463 - val_loss: 135.1652\n",
      "Epoch 13/20\n",
      "101/101 [==============================] - 113s 1s/step - loss: 109.5867 - val_loss: 131.5672\n",
      "Epoch 14/20\n",
      "101/101 [==============================] - 116s 1s/step - loss: 107.9557 - val_loss: 131.2691\n",
      "Epoch 15/20\n",
      "101/101 [==============================] - 113s 1s/step - loss: 106.0765 - val_loss: 130.6082\n",
      "Epoch 16/20\n",
      "101/101 [==============================] - 115s 1s/step - loss: 104.6396 - val_loss: 132.5939\n",
      "Epoch 17/20\n",
      "101/101 [==============================] - 114s 1s/step - loss: 103.2924 - val_loss: 133.2418\n",
      "Epoch 18/20\n",
      "101/101 [==============================] - 113s 1s/step - loss: 101.9888 - val_loss: 132.7615\n",
      "Epoch 19/20\n",
      "101/101 [==============================] - 113s 1s/step - loss: 101.2438 - val_loss: 132.1617\n",
      "Epoch 20/20\n",
      "101/101 [==============================] - 114s 1s/step - loss: 99.6999 - val_loss: 131.8416\n"
     ]
    }
   ],
   "source": [
    "train_model(input_to_softmax=model_2, \n",
    "            pickle_path='model_2.pickle', \n",
    "            save_model_path='model_2.h5', \n",
    "            spectrogram=False) # change to False if you would like to use MFCC features"
   ]
  },
  {
   "cell_type": "markdown",
   "metadata": {},
   "source": [
    "<a id='model3'></a>\n",
    "### (IMPLEMENTATION) Model 3: Deeper RNN + TimeDistributed Dense\n",
    "\n",
    "Review the code in `rnn_model`, which makes use of a single recurrent layer.  Now, specify an architecture in `deep_rnn_model` that utilizes a variable number `recur_layers` of recurrent layers.  The figure below shows the architecture that should be returned if `recur_layers=2`.  In the figure, the output sequence of the first recurrent layer is used as input for the next recurrent layer.\n",
    "\n",
    "<img src=\"images/deep_rnn_model.png\" width=\"80%\">\n",
    "\n",
    "Feel free to change the supplied values of `units` to whatever you think performs best.  You can change the value of `recur_layers`, as long as your final value is greater than 1. (As a quick check that you have implemented the additional functionality in `deep_rnn_model` correctly, make sure that the architecture that you specify here is identical to `rnn_model` if `recur_layers=1`.)"
   ]
  },
  {
   "cell_type": "code",
   "execution_count": 98,
   "metadata": {},
   "outputs": [
    {
     "name": "stdout",
     "output_type": "stream",
     "text": [
      "_________________________________________________________________\n",
      "Layer (type)                 Output Shape              Param #   \n",
      "=================================================================\n",
      "the_input (InputLayer)       (None, None, 13)          0         \n",
      "_________________________________________________________________\n",
      "rnn_layer0 (GRU)             (None, None, 200)         128400    \n",
      "_________________________________________________________________\n",
      "batch_normalization_30 (Batc (None, None, 200)         800       \n",
      "_________________________________________________________________\n",
      "rnn_layer1 (GRU)             (None, None, 200)         240600    \n",
      "_________________________________________________________________\n",
      "batch_normalization_31 (Batc (None, None, 200)         800       \n",
      "_________________________________________________________________\n",
      "time_distributed_26 (TimeDis (None, None, 29)          5829      \n",
      "_________________________________________________________________\n",
      "softmax (Activation)         (None, None, 29)          0         \n",
      "=================================================================\n",
      "Total params: 376,429\n",
      "Trainable params: 375,629\n",
      "Non-trainable params: 800\n",
      "_________________________________________________________________\n",
      "None\n"
     ]
    }
   ],
   "source": [
    "model_3 = deep_rnn_model(input_dim=13, # change to 13 if you would like to use MFCC features\n",
    "                         units=200,\n",
    "                         recur_layers=2)\n",
    "#selecting 2 recurent layers as value above is taking too much time for execution"
   ]
  },
  {
   "cell_type": "markdown",
   "metadata": {},
   "source": [
    "Please execute the code cell below to train the neural network you specified in `input_to_softmax`.  After the model has finished training, the model is [saved](https://keras.io/getting-started/faq/#how-can-i-save-a-keras-model) in the HDF5 file `model_3.h5`.  The loss history is [saved](https://wiki.python.org/moin/UsingPickle) in `model_3.pickle`.  You are welcome to tweak any of the optional parameters while calling the `train_model` function, but this is not required."
   ]
  },
  {
   "cell_type": "code",
   "execution_count": 99,
   "metadata": {
    "scrolled": true
   },
   "outputs": [
    {
     "name": "stdout",
     "output_type": "stream",
     "text": [
      "Epoch 1/20\n",
      "101/101 [==============================] - 433s 4s/step - loss: 284.7013 - val_loss: 292.3975\n",
      "Epoch 2/20\n",
      "101/101 [==============================] - 431s 4s/step - loss: 235.6848 - val_loss: 219.6842\n",
      "Epoch 3/20\n",
      "101/101 [==============================] - 431s 4s/step - loss: 227.2854 - val_loss: 216.9738\n",
      "Epoch 4/20\n",
      "101/101 [==============================] - 429s 4s/step - loss: 218.3693 - val_loss: 208.2996\n",
      "Epoch 5/20\n",
      "101/101 [==============================] - 428s 4s/step - loss: 201.1048 - val_loss: 182.8644\n",
      "Epoch 6/20\n",
      "101/101 [==============================] - 428s 4s/step - loss: 173.4385 - val_loss: 170.3755\n",
      "Epoch 7/20\n",
      "101/101 [==============================] - 430s 4s/step - loss: 158.0950 - val_loss: 162.5143\n",
      "Epoch 8/20\n",
      "101/101 [==============================] - 429s 4s/step - loss: 149.1117 - val_loss: 157.3496\n",
      "Epoch 9/20\n",
      "101/101 [==============================] - 426s 4s/step - loss: 142.1405 - val_loss: 146.4406\n",
      "Epoch 10/20\n",
      "101/101 [==============================] - 432s 4s/step - loss: 137.2174 - val_loss: 142.1624\n",
      "Epoch 11/20\n",
      "101/101 [==============================] - 427s 4s/step - loss: 132.2657 - val_loss: 143.9202\n",
      "Epoch 12/20\n",
      "101/101 [==============================] - 431s 4s/step - loss: 129.7868 - val_loss: 139.0008\n",
      "Epoch 13/20\n",
      "101/101 [==============================] - 429s 4s/step - loss: 125.9041 - val_loss: 138.4538\n",
      "Epoch 14/20\n",
      "101/101 [==============================] - 426s 4s/step - loss: 123.9517 - val_loss: 137.2975\n",
      "Epoch 15/20\n",
      "101/101 [==============================] - 425s 4s/step - loss: 121.2587 - val_loss: 134.6757\n",
      "Epoch 16/20\n",
      "101/101 [==============================] - 430s 4s/step - loss: 119.3423 - val_loss: 138.1844\n",
      "Epoch 17/20\n",
      "101/101 [==============================] - 427s 4s/step - loss: 118.2546 - val_loss: 135.2056\n",
      "Epoch 18/20\n",
      "101/101 [==============================] - 427s 4s/step - loss: 118.0360 - val_loss: 130.5623\n",
      "Epoch 19/20\n",
      "101/101 [==============================] - 430s 4s/step - loss: 114.4097 - val_loss: 132.4648\n",
      "Epoch 20/20\n",
      "101/101 [==============================] - 427s 4s/step - loss: 114.7494 - val_loss: 130.6942\n"
     ]
    }
   ],
   "source": [
    "train_model(input_to_softmax=model_3, \n",
    "            pickle_path='model_3.pickle', \n",
    "            save_model_path='model_3.h5', \n",
    "            spectrogram=False) # change to False if you would like to use MFCC features"
   ]
  },
  {
   "cell_type": "markdown",
   "metadata": {},
   "source": [
    "<a id='model4'></a>\n",
    "### (IMPLEMENTATION) Model 4: Bidirectional RNN + TimeDistributed Dense\n",
    "\n",
    "Read about the [Bidirectional](https://keras.io/layers/wrappers/) wrapper in the Keras documentation.  For your next architecture, you will specify an architecture that uses a single bidirectional RNN layer, before a (`TimeDistributed`) dense layer.  The added value of a bidirectional RNN is described well in [this paper](http://www.cs.toronto.edu/~hinton/absps/DRNN_speech.pdf).\n",
    "> One shortcoming of conventional RNNs is that they are only able to make use of previous context. In speech recognition, where whole utterances are transcribed at once, there is no reason not to exploit future context as well.  Bidirectional RNNs (BRNNs) do this by processing the data in both directions with two separate hidden layers which are then fed forwards to the same output layer.\n",
    "\n",
    "<img src=\"images/bidirectional_rnn_model.png\" width=\"80%\">\n",
    "\n",
    "Before running the code cell below, you must complete the `bidirectional_rnn_model` function in `sample_models.py`.  Feel free to use `SimpleRNN`, `LSTM`, or `GRU` units.  When specifying the `Bidirectional` wrapper, use `merge_mode='concat'`."
   ]
  },
  {
   "cell_type": "code",
   "execution_count": 2,
   "metadata": {},
   "outputs": [
    {
     "name": "stdout",
     "output_type": "stream",
     "text": [
      "_________________________________________________________________\n",
      "Layer (type)                 Output Shape              Param #   \n",
      "=================================================================\n",
      "the_input (InputLayer)       (None, None, 13)          0         \n",
      "_________________________________________________________________\n",
      "bi_rnn (Bidirectional)       (None, None, 400)         256800    \n",
      "_________________________________________________________________\n",
      "time_dense (TimeDistributed) (None, None, 29)          11629     \n",
      "_________________________________________________________________\n",
      "softmax (Activation)         (None, None, 29)          0         \n",
      "=================================================================\n",
      "Total params: 268,429\n",
      "Trainable params: 268,429\n",
      "Non-trainable params: 0\n",
      "_________________________________________________________________\n",
      "None\n"
     ]
    }
   ],
   "source": [
    "model_4 = bidirectional_rnn_model(input_dim=13, # change to 13 if you would like to use MFCC features\n",
    "                                  units=200)"
   ]
  },
  {
   "cell_type": "markdown",
   "metadata": {},
   "source": [
    "Please execute the code cell below to train the neural network you specified in `input_to_softmax`.  After the model has finished training, the model is [saved](https://keras.io/getting-started/faq/#how-can-i-save-a-keras-model) in the HDF5 file `model_4.h5`.  The loss history is [saved](https://wiki.python.org/moin/UsingPickle) in `model_4.pickle`.  You are welcome to tweak any of the optional parameters while calling the `train_model` function, but this is not required."
   ]
  },
  {
   "cell_type": "code",
   "execution_count": 3,
   "metadata": {
    "scrolled": true
   },
   "outputs": [
    {
     "name": "stdout",
     "output_type": "stream",
     "text": [
      "Epoch 1/20\n",
      "101/101 [==============================] - 397s 4s/step - loss: 277.3307 - val_loss: 216.7978\n",
      "Epoch 2/20\n",
      "101/101 [==============================] - 388s 4s/step - loss: 212.6099 - val_loss: 198.6454\n",
      "Epoch 3/20\n",
      "101/101 [==============================] - 382s 4s/step - loss: 199.7899 - val_loss: 189.4320\n",
      "Epoch 4/20\n",
      "101/101 [==============================] - 381s 4s/step - loss: 190.2237 - val_loss: 182.5993\n",
      "Epoch 5/20\n",
      "101/101 [==============================] - 390s 4s/step - loss: 181.9666 - val_loss: 174.7436\n",
      "Epoch 6/20\n",
      "101/101 [==============================] - 385s 4s/step - loss: 175.2462 - val_loss: 172.9255\n",
      "Epoch 7/20\n",
      "101/101 [==============================] - 385s 4s/step - loss: 169.1253 - val_loss: 169.1075\n",
      "Epoch 8/20\n",
      "101/101 [==============================] - 386s 4s/step - loss: 163.4296 - val_loss: 159.2889\n",
      "Epoch 9/20\n",
      "101/101 [==============================] - 384s 4s/step - loss: 158.5905 - val_loss: 157.1866\n",
      "Epoch 10/20\n",
      "101/101 [==============================] - 383s 4s/step - loss: 153.3999 - val_loss: 155.2624\n",
      "Epoch 11/20\n",
      "101/101 [==============================] - 383s 4s/step - loss: 149.0258 - val_loss: 150.8138\n",
      "Epoch 12/20\n",
      "101/101 [==============================] - 381s 4s/step - loss: 144.9253 - val_loss: 150.1946\n",
      "Epoch 13/20\n",
      "101/101 [==============================] - 384s 4s/step - loss: 140.9030 - val_loss: 146.4434\n",
      "Epoch 14/20\n",
      "101/101 [==============================] - 383s 4s/step - loss: 137.0795 - val_loss: 145.3831\n",
      "Epoch 15/20\n",
      "101/101 [==============================] - 383s 4s/step - loss: 133.3188 - val_loss: 145.4415\n",
      "Epoch 16/20\n",
      "101/101 [==============================] - 385s 4s/step - loss: 130.2470 - val_loss: 140.6578\n",
      "Epoch 17/20\n",
      "101/101 [==============================] - 384s 4s/step - loss: 126.9780 - val_loss: 138.1761\n",
      "Epoch 18/20\n",
      "101/101 [==============================] - 384s 4s/step - loss: 124.0754 - val_loss: 138.0644\n",
      "Epoch 19/20\n",
      "101/101 [==============================] - 386s 4s/step - loss: 121.4962 - val_loss: 138.1784\n",
      "Epoch 20/20\n",
      "101/101 [==============================] - 381s 4s/step - loss: 119.0622 - val_loss: 134.2425\n"
     ]
    }
   ],
   "source": [
    "train_model(input_to_softmax=model_4, \n",
    "            pickle_path='model_4.pickle', \n",
    "            save_model_path='model_4.h5', \n",
    "            spectrogram=False) # change to False if you would like to use MFCC features"
   ]
  },
  {
   "cell_type": "markdown",
   "metadata": {},
   "source": [
    "<a id='model5'></a>\n",
    "### (OPTIONAL IMPLEMENTATION) Models 5+\n",
    "\n",
    "If you would like to try out more architectures than the ones above, please use the code cell below.  Please continue to follow the same convention for saving the models; for the $i$-th sample model, please save the loss at **`model_i.pickle`** and saving the trained model at **`model_i.h5`**."
   ]
  },
  {
   "cell_type": "code",
   "execution_count": null,
   "metadata": {
    "collapsed": true
   },
   "outputs": [],
   "source": [
    "## (Optional) TODO: Try out some more models!\n",
    "### Feel free to use as many code cells as needed."
   ]
  },
  {
   "cell_type": "markdown",
   "metadata": {},
   "source": [
    "<a id='compare'></a>\n",
    "### Compare the Models\n",
    "\n",
    "Execute the code cell below to evaluate the performance of the drafted deep learning models.  The training and validation loss are plotted for each model."
   ]
  },
  {
   "cell_type": "code",
   "execution_count": 4,
   "metadata": {},
   "outputs": [
    {
     "data": {
      "image/png": "[encoded data removed]",
      "text/plain": [
       "<matplotlib.figure.Figure at 0x7f6fee8b6470>"
      ]
     },
     "metadata": {},
     "output_type": "display_data"
    }
   ],
   "source": [
    "from glob import glob\n",
    "import numpy as np\n",
    "import _pickle as pickle\n",
    "import seaborn as sns\n",
    "import matplotlib.pyplot as plt\n",
    "%matplotlib inline\n",
    "sns.set_style(style='white')\n",
    "\n",
    "# obtain the paths for the saved model history\n",
    "all_pickles = sorted(glob(\"results/*.pickle\"))\n",
    "# extract the name of each model\n",
    "model_names = [item[8:-7] for item in all_pickles]\n",
    "# extract the loss history for each model\n",
    "valid_loss = [pickle.load( open( i, \"rb\" ) )['val_loss'] for i in all_pickles]\n",
    "train_loss = [pickle.load( open( i, \"rb\" ) )['loss'] for i in all_pickles]\n",
    "# save the number of epochs used to train each model\n",
    "num_epochs = [len(valid_loss[i]) for i in range(len(valid_loss))]\n",
    "\n",
    "fig = plt.figure(figsize=(16,5))\n",
    "\n",
    "# plot the training loss vs. epoch for each model\n",
    "ax1 = fig.add_subplot(121)\n",
    "for i in range(len(all_pickles)):\n",
    "    ax1.plot(np.linspace(1, num_epochs[i], num_epochs[i]), \n",
    "            train_loss[i], label=model_names[i])\n",
    "# clean up the plot\n",
    "ax1.legend()  \n",
    "ax1.set_xlim([1, max(num_epochs)])\n",
    "plt.xlabel('Epoch')\n",
    "plt.ylabel('Training Loss')\n",
    "\n",
    "# plot the validation loss vs. epoch for each model\n",
    "ax2 = fig.add_subplot(122)\n",
    "for i in range(len(all_pickles)):\n",
    "    ax2.plot(np.linspace(1, num_epochs[i], num_epochs[i]), \n",
    "            valid_loss[i], label=model_names[i])\n",
    "# clean up the plot\n",
    "ax2.legend()  \n",
    "ax2.set_xlim([1, max(num_epochs)])\n",
    "plt.xlabel('Epoch')\n",
    "plt.ylabel('Validation Loss')\n",
    "plt.show()"
   ]
  },
  {
   "cell_type": "markdown",
   "metadata": {},
   "source": [
    "__Question 1:__ Use the plot above to analyze the performance of each of the attempted architectures.  Which performs best?  Provide an explanation regarding why you think some models perform better than others. \n",
    "\n",
    "__Answer:__ By observing plots, we can see model_2 (recurrent + convolutional network) performs best for all training and validation data. But when epochs are increased we can see model_3 (Deep RNN architecture) also reaches almost same performance as close to best model_2.\n",
    "1. model_0 is shallow network with no batch normalisation or dropout to control overfitting, may be that is why it performs worst on both training and validation data. \n",
    "2. model_1 is ahllow RNN but with batch normalisation, drop out and time distributed layer, hence performs little better for most part but at the end on validation data, we can see exploding gradient problem as loss reaches nan value as it becomes very large value.\n",
    "3. model_2: RNN with Convolutional layer gives optimal perfomance compared to all other networks in very short number of epochs, I think it is stronlgy because convolution layer able to distinguish between MFCC features provided correctly and hence the performance.\n",
    "4. model_3, deeper RNN gives best performance but only after lot of epochs, initially we can see it struggling. It could be because it takes more resources to train larger networks comapred to shallow networks but it is generalised well compared to shallow network after lot of training. Its extra layer give flexibility to generalise well at the expense of more training resources.\n",
    "5. model_4, bidirectional RNN, takes the most time for training, it requires lot of epochs to reach the same perormance as model_2 reaches in few epochs. As bidirectional RNNs can update their parameters on future data also, which is largely relevant in voice data in form of time series. In nutshell it gives great performance but at the cost of efficiency and training resources.\n"
   ]
  },
  {
   "cell_type": "code",
   "execution_count": null,
   "metadata": {},
   "outputs": [],
   "source": []
  },
  {
   "cell_type": "markdown",
   "metadata": {},
   "source": [
    "<a id='final'></a>\n",
    "### (IMPLEMENTATION) Final Model\n",
    "\n",
    "Now that you've tried out many sample models, use what you've learned to draft your own architecture!  While your final acoustic model should not be identical to any of the architectures explored above, you are welcome to merely combine the explored layers above into a deeper architecture.  It is **NOT** necessary to include new layer types that were not explored in the notebook.\n",
    "\n",
    "However, if you would like some ideas for even more layer types, check out these ideas for some additional, optional extensions to your model:\n",
    "\n",
    "- If you notice your model is overfitting to the training dataset, consider adding **dropout**!  To add dropout to [recurrent layers](https://faroit.github.io/keras-docs/1.0.2/layers/recurrent/), pay special attention to the `dropout_W` and `dropout_U` arguments.  This [paper](http://arxiv.org/abs/1512.05287) may also provide some interesting theoretical background.\n",
    "- If you choose to include a convolutional layer in your model, you may get better results by working with **dilated convolutions**.  If you choose to use dilated convolutions, make sure that you are able to accurately calculate the length of the acoustic model's output in the `model.output_length` lambda function.  You can read more about dilated convolutions in Google's [WaveNet paper](https://arxiv.org/abs/1609.03499).  For an example of a speech-to-text system that makes use of dilated convolutions, check out this GitHub [repository](https://github.com/buriburisuri/speech-to-text-wavenet).  You can work with dilated convolutions [in Keras](https://keras.io/layers/convolutional/) by paying special attention to the `padding` argument when you specify a convolutional layer.\n",
    "- If your model makes use of convolutional layers, why not also experiment with adding **max pooling**?  Check out [this paper](https://arxiv.org/pdf/1701.02720.pdf) for example architecture that makes use of max pooling in an acoustic model.\n",
    "- So far, you have experimented with a single bidirectional RNN layer.  Consider stacking the bidirectional layers, to produce a [deep bidirectional RNN](https://www.cs.toronto.edu/~graves/asru_2013.pdf)!\n",
    "\n",
    "All models that you specify in this repository should have `output_length` defined as an attribute.  This attribute is a lambda function that maps the (temporal) length of the input acoustic features to the (temporal) length of the output softmax layer.  This function is used in the computation of CTC loss; to see this, look at the `add_ctc_loss` function in `train_utils.py`.  To see where the `output_length` attribute is defined for the models in the code, take a look at the `sample_models.py` file.  You will notice this line of code within most models:\n",
    "```\n",
    "model.output_length = lambda x: x\n",
    "```\n",
    "The acoustic model that incorporates a convolutional layer (`cnn_rnn_model`) has a line that is a bit different:\n",
    "```\n",
    "model.output_length = lambda x: cnn_output_length(\n",
    "        x, kernel_size, conv_border_mode, conv_stride)\n",
    "```\n",
    "\n",
    "In the case of models that use purely recurrent layers, the lambda function is the identity function, as the recurrent layers do not modify the (temporal) length of their input tensors.  However, convolutional layers are more complicated and require a specialized function (`cnn_output_length` in `sample_models.py`) to determine the temporal length of their output.\n",
    "\n",
    "You will have to add the `output_length` attribute to your final model before running the code cell below.  Feel free to use the `cnn_output_length` function, if it suits your model. "
   ]
  },
  {
   "cell_type": "code",
   "execution_count": 14,
   "metadata": {},
   "outputs": [
    {
     "name": "stdout",
     "output_type": "stream",
     "text": [
      "_________________________________________________________________\n",
      "Layer (type)                 Output Shape              Param #   \n",
      "=================================================================\n",
      "the_input (InputLayer)       (None, None, 13)          0         \n",
      "_________________________________________________________________\n",
      "conv1d (Conv1D)              (None, None, 200)         34000     \n",
      "_________________________________________________________________\n",
      "bn_conv_1d (BatchNormalizati (None, None, 200)         800       \n",
      "_________________________________________________________________\n",
      "rnn1 (GRU)                   (None, None, 100)         90300     \n",
      "_________________________________________________________________\n",
      "bn_rnn1 (BatchNormalization) (None, None, 100)         400       \n",
      "_________________________________________________________________\n",
      "rnn2 (GRU)                   (None, None, 100)         60300     \n",
      "_________________________________________________________________\n",
      "bn_rnn2 (BatchNormalization) (None, None, 100)         400       \n",
      "_________________________________________________________________\n",
      "rnn3 (GRU)                   (None, None, 100)         60300     \n",
      "_________________________________________________________________\n",
      "bn_rnn3 (BatchNormalization) (None, None, 100)         400       \n",
      "_________________________________________________________________\n",
      "time_dense (TimeDistributed) (None, None, 29)          2929      \n",
      "_________________________________________________________________\n",
      "softmax (Activation)         (None, None, 29)          0         \n",
      "=================================================================\n",
      "Total params: 249,829\n",
      "Trainable params: 248,829\n",
      "Non-trainable params: 1,000\n",
      "_________________________________________________________________\n",
      "None\n"
     ]
    }
   ],
   "source": [
    "# specify the model\n",
    "model_end = final_model(input_dim=13, # change to 13 if you would like to use MFCC features\n",
    "    filters=200,\n",
    "    kernel_size=13,\n",
    "    conv_stride=3,\n",
    "    conv_border_mode='same',\n",
    "    units=100)"
   ]
  },
  {
   "cell_type": "markdown",
   "metadata": {},
   "source": [
    "Please execute the code cell below to train the neural network you specified in `input_to_softmax`.  After the model has finished training, the model is [saved](https://keras.io/getting-started/faq/#how-can-i-save-a-keras-model) in the HDF5 file `model_end.h5`.  The loss history is [saved](https://wiki.python.org/moin/UsingPickle) in `model_end.pickle`.  You are welcome to tweak any of the optional parameters while calling the `train_model` function, but this is not required."
   ]
  },
  {
   "cell_type": "code",
   "execution_count": 15,
   "metadata": {},
   "outputs": [
    {
     "name": "stdout",
     "output_type": "stream",
     "text": [
      "Epoch 1/24\n",
      "101/101 [==============================] - 232s 2s/step - loss: 226.6347 - val_loss: 208.7806\n",
      "Epoch 2/24\n",
      "101/101 [==============================] - 230s 2s/step - loss: 175.5473 - val_loss: 164.2209\n",
      "Epoch 3/24\n",
      "101/101 [==============================] - 231s 2s/step - loss: 151.9125 - val_loss: 153.3837\n",
      "Epoch 4/24\n",
      "101/101 [==============================] - 231s 2s/step - loss: 139.8511 - val_loss: 144.1334\n",
      "Epoch 5/24\n",
      "101/101 [==============================] - 226s 2s/step - loss: 130.6673 - val_loss: 142.9084\n",
      "Epoch 6/24\n",
      "101/101 [==============================] - 231s 2s/step - loss: 123.5519 - val_loss: 135.0121\n",
      "Epoch 7/24\n",
      "101/101 [==============================] - 228s 2s/step - loss: 118.2356 - val_loss: 137.2751\n",
      "Epoch 8/24\n",
      "101/101 [==============================] - 230s 2s/step - loss: 113.4189 - val_loss: 132.6073\n",
      "Epoch 9/24\n",
      "101/101 [==============================] - 229s 2s/step - loss: 109.0140 - val_loss: 131.2785\n",
      "Epoch 10/24\n",
      "101/101 [==============================] - 227s 2s/step - loss: 105.5396 - val_loss: 129.8099\n",
      "Epoch 11/24\n",
      "101/101 [==============================] - 231s 2s/step - loss: 102.4178 - val_loss: 130.6077\n",
      "Epoch 12/24\n",
      "101/101 [==============================] - 227s 2s/step - loss: 99.0500 - val_loss: 131.0760\n",
      "Epoch 13/24\n",
      "101/101 [==============================] - 228s 2s/step - loss: 96.2035 - val_loss: 129.3718\n",
      "Epoch 14/24\n",
      "101/101 [==============================] - 231s 2s/step - loss: 93.2300 - val_loss: 132.5270\n",
      "Epoch 15/24\n",
      "101/101 [==============================] - 230s 2s/step - loss: 91.2842 - val_loss: 129.4616\n",
      "Epoch 16/24\n",
      "101/101 [==============================] - 231s 2s/step - loss: 88.6788 - val_loss: 128.8733\n",
      "Epoch 17/24\n",
      "101/101 [==============================] - 231s 2s/step - loss: 86.3216 - val_loss: 133.4315\n",
      "Epoch 18/24\n",
      "101/101 [==============================] - 228s 2s/step - loss: 84.8768 - val_loss: 131.0450\n",
      "Epoch 19/24\n",
      "101/101 [==============================] - 232s 2s/step - loss: 82.2455 - val_loss: 131.1047\n",
      "Epoch 20/24\n",
      "101/101 [==============================] - 229s 2s/step - loss: 80.8313 - val_loss: 130.9266\n",
      "Epoch 21/24\n",
      "101/101 [==============================] - 232s 2s/step - loss: 79.1293 - val_loss: 132.6061\n",
      "Epoch 22/24\n",
      "101/101 [==============================] - 231s 2s/step - loss: 77.0556 - val_loss: 135.0490\n",
      "Epoch 23/24\n",
      "101/101 [==============================] - 229s 2s/step - loss: 76.0826 - val_loss: 132.0630\n",
      "Epoch 24/24\n",
      "101/101 [==============================] - 230s 2s/step - loss: 75.9932 - val_loss: 133.5514\n"
     ]
    }
   ],
   "source": [
    "train_model(input_to_softmax=model_end, \n",
    "            pickle_path='model_end.pickle', \n",
    "            save_model_path='model_end.h5', \n",
    "            epochs=24,\n",
    "            spectrogram=False) # change to False if you would like to use MFCC features"
   ]
  },
  {
   "cell_type": "markdown",
   "metadata": {},
   "source": [
    "__Question 2:__ Describe your final model architecture and your reasoning at each step.  \n",
    "\n",
    "__Answer:__ \n",
    "\n",
    "Architecture: We had Convolution layer with 200 filters after input with batch normalisation. Then 3 GRU layers with batch normalisation followed by time dense layer with softmax output trained for 24 epochs. But eventhough training loss is decreasing properly validation loss is not quite descreasing as training loss which indicates overfitting. That means we might want to reduce the complexity or try different of Deep RNN architecture. Lets try different architecture.\n"
   ]
  },
  {
   "cell_type": "code",
   "execution_count": 28,
   "metadata": {},
   "outputs": [
    {
     "name": "stdout",
     "output_type": "stream",
     "text": [
      "_________________________________________________________________\n",
      "Layer (type)                 Output Shape              Param #   \n",
      "=================================================================\n",
      "the_input (InputLayer)       (None, None, 13)          0         \n",
      "_________________________________________________________________\n",
      "conv1d (Conv1D)              (None, None, 200)         34000     \n",
      "_________________________________________________________________\n",
      "bn_conv_1d (BatchNormalizati (None, None, 200)         800       \n",
      "_________________________________________________________________\n",
      "rnn1 (GRU)                   (None, None, 100)         90300     \n",
      "_________________________________________________________________\n",
      "bn_rnn1 (BatchNormalization) (None, None, 100)         400       \n",
      "_________________________________________________________________\n",
      "rnn2 (GRU)                   (None, None, 100)         60300     \n",
      "_________________________________________________________________\n",
      "bn_rnn2 (BatchNormalization) (None, None, 100)         400       \n",
      "_________________________________________________________________\n",
      "time_dense (TimeDistributed) (None, None, 29)          2929      \n",
      "_________________________________________________________________\n",
      "softmax (Activation)         (None, None, 29)          0         \n",
      "=================================================================\n",
      "Total params: 189,129\n",
      "Trainable params: 188,329\n",
      "Non-trainable params: 800\n",
      "_________________________________________________________________\n",
      "None\n"
     ]
    }
   ],
   "source": [
    "# specify the model\n",
    "model_end = final_model(input_dim=13, # change to 13 if you would like to use MFCC features\n",
    "    filters=200,\n",
    "    kernel_size=13,\n",
    "    conv_stride=3,\n",
    "    conv_border_mode='same',\n",
    "    units=100)"
   ]
  },
  {
   "cell_type": "code",
   "execution_count": 29,
   "metadata": {},
   "outputs": [
    {
     "name": "stdout",
     "output_type": "stream",
     "text": [
      "Epoch 1/24\n",
      "101/101 [==============================] - 183s 2s/step - loss: 227.3510 - val_loss: 200.6417\n",
      "Epoch 2/24\n",
      "101/101 [==============================] - 179s 2s/step - loss: 174.8999 - val_loss: 166.7610\n",
      "Epoch 3/24\n",
      "101/101 [==============================] - 176s 2s/step - loss: 152.3092 - val_loss: 154.9977\n",
      "Epoch 4/24\n",
      "101/101 [==============================] - 178s 2s/step - loss: 140.6351 - val_loss: 146.5469\n",
      "Epoch 5/24\n",
      "101/101 [==============================] - 176s 2s/step - loss: 132.8002 - val_loss: 142.1050\n",
      "Epoch 6/24\n",
      "101/101 [==============================] - 177s 2s/step - loss: 126.3642 - val_loss: 136.7436\n",
      "Epoch 7/24\n",
      "101/101 [==============================] - 176s 2s/step - loss: 121.4145 - val_loss: 137.2804\n",
      "Epoch 8/24\n",
      "101/101 [==============================] - 177s 2s/step - loss: 117.3957 - val_loss: 133.0981\n",
      "Epoch 9/24\n",
      "101/101 [==============================] - 176s 2s/step - loss: 113.5558 - val_loss: 134.0341\n",
      "Epoch 10/24\n",
      "101/101 [==============================] - 175s 2s/step - loss: 110.3142 - val_loss: 129.6840\n",
      "Epoch 11/24\n",
      "101/101 [==============================] - 173s 2s/step - loss: 107.1097 - val_loss: 132.4662\n",
      "Epoch 12/24\n",
      "101/101 [==============================] - 175s 2s/step - loss: 104.3758 - val_loss: 134.6366\n",
      "Epoch 13/24\n",
      "101/101 [==============================] - 175s 2s/step - loss: 101.6282 - val_loss: 130.4607\n",
      "Epoch 14/24\n",
      "  5/101 [>.............................] - ETA: 2:06 - loss: 96.9425 "
     ]
    },
    {
     "ename": "KeyboardInterrupt",
     "evalue": "",
     "output_type": "error",
     "traceback": [
      "\u001b[0;31m---------------------------------------------------------------------------\u001b[0m",
      "\u001b[0;31mKeyboardInterrupt\u001b[0m                         Traceback (most recent call last)",
      "\u001b[0;32m<ipython-input-29-0d3c6882e2f3>\u001b[0m in \u001b[0;36m<module>\u001b[0;34m()\u001b[0m\n\u001b[1;32m      3\u001b[0m             \u001b[0msave_model_path\u001b[0m\u001b[0;34m=\u001b[0m\u001b[0;34m'model_end.h5'\u001b[0m\u001b[0;34m,\u001b[0m\u001b[0;34m\u001b[0m\u001b[0m\n\u001b[1;32m      4\u001b[0m             \u001b[0mepochs\u001b[0m\u001b[0;34m=\u001b[0m\u001b[0;36m24\u001b[0m\u001b[0;34m,\u001b[0m\u001b[0;34m\u001b[0m\u001b[0m\n\u001b[0;32m----> 5\u001b[0;31m             spectrogram=False) # change to False if you would like to use MFCC features\n\u001b[0m",
      "\u001b[0;32m/home/workspace/train_utils.py\u001b[0m in \u001b[0;36mtrain_model\u001b[0;34m(input_to_softmax, pickle_path, save_model_path, train_json, valid_json, minibatch_size, spectrogram, mfcc_dim, optimizer, epochs, verbose, sort_by_duration, max_duration)\u001b[0m\n\u001b[1;32m     79\u001b[0m     hist = model.fit_generator(generator=audio_gen.next_train(), steps_per_epoch=steps_per_epoch,\n\u001b[1;32m     80\u001b[0m         \u001b[0mepochs\u001b[0m\u001b[0;34m=\u001b[0m\u001b[0mepochs\u001b[0m\u001b[0;34m,\u001b[0m \u001b[0mvalidation_data\u001b[0m\u001b[0;34m=\u001b[0m\u001b[0maudio_gen\u001b[0m\u001b[0;34m.\u001b[0m\u001b[0mnext_valid\u001b[0m\u001b[0;34m(\u001b[0m\u001b[0;34m)\u001b[0m\u001b[0;34m,\u001b[0m \u001b[0mvalidation_steps\u001b[0m\u001b[0;34m=\u001b[0m\u001b[0mvalidation_steps\u001b[0m\u001b[0;34m,\u001b[0m\u001b[0;34m\u001b[0m\u001b[0m\n\u001b[0;32m---> 81\u001b[0;31m         callbacks=[checkpointer], verbose=verbose)\n\u001b[0m\u001b[1;32m     82\u001b[0m \u001b[0;34m\u001b[0m\u001b[0m\n\u001b[1;32m     83\u001b[0m     \u001b[0;31m# save model loss\u001b[0m\u001b[0;34m\u001b[0m\u001b[0;34m\u001b[0m\u001b[0m\n",
      "\u001b[0;32m/opt/conda/lib/python3.6/site-packages/keras/legacy/interfaces.py\u001b[0m in \u001b[0;36mwrapper\u001b[0;34m(*args, **kwargs)\u001b[0m\n\u001b[1;32m     85\u001b[0m                 warnings.warn('Update your `' + object_name +\n\u001b[1;32m     86\u001b[0m                               '` call to the Keras 2 API: ' + signature, stacklevel=2)\n\u001b[0;32m---> 87\u001b[0;31m             \u001b[0;32mreturn\u001b[0m \u001b[0mfunc\u001b[0m\u001b[0;34m(\u001b[0m\u001b[0;34m*\u001b[0m\u001b[0margs\u001b[0m\u001b[0;34m,\u001b[0m \u001b[0;34m**\u001b[0m\u001b[0mkwargs\u001b[0m\u001b[0;34m)\u001b[0m\u001b[0;34m\u001b[0m\u001b[0m\n\u001b[0m\u001b[1;32m     88\u001b[0m         \u001b[0mwrapper\u001b[0m\u001b[0;34m.\u001b[0m\u001b[0m_original_function\u001b[0m \u001b[0;34m=\u001b[0m \u001b[0mfunc\u001b[0m\u001b[0;34m\u001b[0m\u001b[0m\n\u001b[1;32m     89\u001b[0m         \u001b[0;32mreturn\u001b[0m \u001b[0mwrapper\u001b[0m\u001b[0;34m\u001b[0m\u001b[0m\n",
      "\u001b[0;32m/opt/conda/lib/python3.6/site-packages/keras/engine/training.py\u001b[0m in \u001b[0;36mfit_generator\u001b[0;34m(self, generator, steps_per_epoch, epochs, verbose, callbacks, validation_data, validation_steps, class_weight, max_queue_size, workers, use_multiprocessing, shuffle, initial_epoch)\u001b[0m\n\u001b[1;32m   2075\u001b[0m                     outs = self.train_on_batch(x, y,\n\u001b[1;32m   2076\u001b[0m                                                \u001b[0msample_weight\u001b[0m\u001b[0;34m=\u001b[0m\u001b[0msample_weight\u001b[0m\u001b[0;34m,\u001b[0m\u001b[0;34m\u001b[0m\u001b[0m\n\u001b[0;32m-> 2077\u001b[0;31m                                                class_weight=class_weight)\n\u001b[0m\u001b[1;32m   2078\u001b[0m \u001b[0;34m\u001b[0m\u001b[0m\n\u001b[1;32m   2079\u001b[0m                     \u001b[0;32mif\u001b[0m \u001b[0;32mnot\u001b[0m \u001b[0misinstance\u001b[0m\u001b[0;34m(\u001b[0m\u001b[0mouts\u001b[0m\u001b[0;34m,\u001b[0m \u001b[0mlist\u001b[0m\u001b[0;34m)\u001b[0m\u001b[0;34m:\u001b[0m\u001b[0;34m\u001b[0m\u001b[0m\n",
      "\u001b[0;32m/opt/conda/lib/python3.6/site-packages/keras/engine/training.py\u001b[0m in \u001b[0;36mtrain_on_batch\u001b[0;34m(self, x, y, sample_weight, class_weight)\u001b[0m\n\u001b[1;32m   1795\u001b[0m             \u001b[0mins\u001b[0m \u001b[0;34m=\u001b[0m \u001b[0mx\u001b[0m \u001b[0;34m+\u001b[0m \u001b[0my\u001b[0m \u001b[0;34m+\u001b[0m \u001b[0msample_weights\u001b[0m\u001b[0;34m\u001b[0m\u001b[0m\n\u001b[1;32m   1796\u001b[0m         \u001b[0mself\u001b[0m\u001b[0;34m.\u001b[0m\u001b[0m_make_train_function\u001b[0m\u001b[0;34m(\u001b[0m\u001b[0;34m)\u001b[0m\u001b[0;34m\u001b[0m\u001b[0m\n\u001b[0;32m-> 1797\u001b[0;31m         \u001b[0moutputs\u001b[0m \u001b[0;34m=\u001b[0m \u001b[0mself\u001b[0m\u001b[0;34m.\u001b[0m\u001b[0mtrain_function\u001b[0m\u001b[0;34m(\u001b[0m\u001b[0mins\u001b[0m\u001b[0;34m)\u001b[0m\u001b[0;34m\u001b[0m\u001b[0m\n\u001b[0m\u001b[1;32m   1798\u001b[0m         \u001b[0;32mif\u001b[0m \u001b[0mlen\u001b[0m\u001b[0;34m(\u001b[0m\u001b[0moutputs\u001b[0m\u001b[0;34m)\u001b[0m \u001b[0;34m==\u001b[0m \u001b[0;36m1\u001b[0m\u001b[0;34m:\u001b[0m\u001b[0;34m\u001b[0m\u001b[0m\n\u001b[1;32m   1799\u001b[0m             \u001b[0;32mreturn\u001b[0m \u001b[0moutputs\u001b[0m\u001b[0;34m[\u001b[0m\u001b[0;36m0\u001b[0m\u001b[0;34m]\u001b[0m\u001b[0;34m\u001b[0m\u001b[0m\n",
      "\u001b[0;32m/opt/conda/lib/python3.6/site-packages/keras/backend/tensorflow_backend.py\u001b[0m in \u001b[0;36m__call__\u001b[0;34m(self, inputs)\u001b[0m\n\u001b[1;32m   2330\u001b[0m         updated = session.run(self.outputs + [self.updates_op],\n\u001b[1;32m   2331\u001b[0m                               \u001b[0mfeed_dict\u001b[0m\u001b[0;34m=\u001b[0m\u001b[0mfeed_dict\u001b[0m\u001b[0;34m,\u001b[0m\u001b[0;34m\u001b[0m\u001b[0m\n\u001b[0;32m-> 2332\u001b[0;31m                               **self.session_kwargs)\n\u001b[0m\u001b[1;32m   2333\u001b[0m         \u001b[0;32mreturn\u001b[0m \u001b[0mupdated\u001b[0m\u001b[0;34m[\u001b[0m\u001b[0;34m:\u001b[0m\u001b[0mlen\u001b[0m\u001b[0;34m(\u001b[0m\u001b[0mself\u001b[0m\u001b[0;34m.\u001b[0m\u001b[0moutputs\u001b[0m\u001b[0;34m)\u001b[0m\u001b[0;34m]\u001b[0m\u001b[0;34m\u001b[0m\u001b[0m\n\u001b[1;32m   2334\u001b[0m \u001b[0;34m\u001b[0m\u001b[0m\n",
      "\u001b[0;32m/opt/conda/lib/python3.6/site-packages/tensorflow/python/client/session.py\u001b[0m in \u001b[0;36mrun\u001b[0;34m(self, fetches, feed_dict, options, run_metadata)\u001b[0m\n\u001b[1;32m    893\u001b[0m     \u001b[0;32mtry\u001b[0m\u001b[0;34m:\u001b[0m\u001b[0;34m\u001b[0m\u001b[0m\n\u001b[1;32m    894\u001b[0m       result = self._run(None, fetches, feed_dict, options_ptr,\n\u001b[0;32m--> 895\u001b[0;31m                          run_metadata_ptr)\n\u001b[0m\u001b[1;32m    896\u001b[0m       \u001b[0;32mif\u001b[0m \u001b[0mrun_metadata\u001b[0m\u001b[0;34m:\u001b[0m\u001b[0;34m\u001b[0m\u001b[0m\n\u001b[1;32m    897\u001b[0m         \u001b[0mproto_data\u001b[0m \u001b[0;34m=\u001b[0m \u001b[0mtf_session\u001b[0m\u001b[0;34m.\u001b[0m\u001b[0mTF_GetBuffer\u001b[0m\u001b[0;34m(\u001b[0m\u001b[0mrun_metadata_ptr\u001b[0m\u001b[0;34m)\u001b[0m\u001b[0;34m\u001b[0m\u001b[0m\n",
      "\u001b[0;32m/opt/conda/lib/python3.6/site-packages/tensorflow/python/client/session.py\u001b[0m in \u001b[0;36m_run\u001b[0;34m(self, handle, fetches, feed_dict, options, run_metadata)\u001b[0m\n\u001b[1;32m   1122\u001b[0m     \u001b[0;32mif\u001b[0m \u001b[0mfinal_fetches\u001b[0m \u001b[0;32mor\u001b[0m \u001b[0mfinal_targets\u001b[0m \u001b[0;32mor\u001b[0m \u001b[0;34m(\u001b[0m\u001b[0mhandle\u001b[0m \u001b[0;32mand\u001b[0m \u001b[0mfeed_dict_tensor\u001b[0m\u001b[0;34m)\u001b[0m\u001b[0;34m:\u001b[0m\u001b[0;34m\u001b[0m\u001b[0m\n\u001b[1;32m   1123\u001b[0m       results = self._do_run(handle, final_targets, final_fetches,\n\u001b[0;32m-> 1124\u001b[0;31m                              feed_dict_tensor, options, run_metadata)\n\u001b[0m\u001b[1;32m   1125\u001b[0m     \u001b[0;32melse\u001b[0m\u001b[0;34m:\u001b[0m\u001b[0;34m\u001b[0m\u001b[0m\n\u001b[1;32m   1126\u001b[0m       \u001b[0mresults\u001b[0m \u001b[0;34m=\u001b[0m \u001b[0;34m[\u001b[0m\u001b[0;34m]\u001b[0m\u001b[0;34m\u001b[0m\u001b[0m\n",
      "\u001b[0;32m/opt/conda/lib/python3.6/site-packages/tensorflow/python/client/session.py\u001b[0m in \u001b[0;36m_do_run\u001b[0;34m(self, handle, target_list, fetch_list, feed_dict, options, run_metadata)\u001b[0m\n\u001b[1;32m   1319\u001b[0m     \u001b[0;32mif\u001b[0m \u001b[0mhandle\u001b[0m \u001b[0;32mis\u001b[0m \u001b[0;32mNone\u001b[0m\u001b[0;34m:\u001b[0m\u001b[0;34m\u001b[0m\u001b[0m\n\u001b[1;32m   1320\u001b[0m       return self._do_call(_run_fn, self._session, feeds, fetches, targets,\n\u001b[0;32m-> 1321\u001b[0;31m                            options, run_metadata)\n\u001b[0m\u001b[1;32m   1322\u001b[0m     \u001b[0;32melse\u001b[0m\u001b[0;34m:\u001b[0m\u001b[0;34m\u001b[0m\u001b[0m\n\u001b[1;32m   1323\u001b[0m       \u001b[0;32mreturn\u001b[0m \u001b[0mself\u001b[0m\u001b[0;34m.\u001b[0m\u001b[0m_do_call\u001b[0m\u001b[0;34m(\u001b[0m\u001b[0m_prun_fn\u001b[0m\u001b[0;34m,\u001b[0m \u001b[0mself\u001b[0m\u001b[0;34m.\u001b[0m\u001b[0m_session\u001b[0m\u001b[0;34m,\u001b[0m \u001b[0mhandle\u001b[0m\u001b[0;34m,\u001b[0m \u001b[0mfeeds\u001b[0m\u001b[0;34m,\u001b[0m \u001b[0mfetches\u001b[0m\u001b[0;34m)\u001b[0m\u001b[0;34m\u001b[0m\u001b[0m\n",
      "\u001b[0;32m/opt/conda/lib/python3.6/site-packages/tensorflow/python/client/session.py\u001b[0m in \u001b[0;36m_do_call\u001b[0;34m(self, fn, *args)\u001b[0m\n\u001b[1;32m   1325\u001b[0m   \u001b[0;32mdef\u001b[0m \u001b[0m_do_call\u001b[0m\u001b[0;34m(\u001b[0m\u001b[0mself\u001b[0m\u001b[0;34m,\u001b[0m \u001b[0mfn\u001b[0m\u001b[0;34m,\u001b[0m \u001b[0;34m*\u001b[0m\u001b[0margs\u001b[0m\u001b[0;34m)\u001b[0m\u001b[0;34m:\u001b[0m\u001b[0;34m\u001b[0m\u001b[0m\n\u001b[1;32m   1326\u001b[0m     \u001b[0;32mtry\u001b[0m\u001b[0;34m:\u001b[0m\u001b[0;34m\u001b[0m\u001b[0m\n\u001b[0;32m-> 1327\u001b[0;31m       \u001b[0;32mreturn\u001b[0m \u001b[0mfn\u001b[0m\u001b[0;34m(\u001b[0m\u001b[0;34m*\u001b[0m\u001b[0margs\u001b[0m\u001b[0;34m)\u001b[0m\u001b[0;34m\u001b[0m\u001b[0m\n\u001b[0m\u001b[1;32m   1328\u001b[0m     \u001b[0;32mexcept\u001b[0m \u001b[0merrors\u001b[0m\u001b[0;34m.\u001b[0m\u001b[0mOpError\u001b[0m \u001b[0;32mas\u001b[0m \u001b[0me\u001b[0m\u001b[0;34m:\u001b[0m\u001b[0;34m\u001b[0m\u001b[0m\n\u001b[1;32m   1329\u001b[0m       \u001b[0mmessage\u001b[0m \u001b[0;34m=\u001b[0m \u001b[0mcompat\u001b[0m\u001b[0;34m.\u001b[0m\u001b[0mas_text\u001b[0m\u001b[0;34m(\u001b[0m\u001b[0me\u001b[0m\u001b[0;34m.\u001b[0m\u001b[0mmessage\u001b[0m\u001b[0;34m)\u001b[0m\u001b[0;34m\u001b[0m\u001b[0m\n",
      "\u001b[0;32m/opt/conda/lib/python3.6/site-packages/tensorflow/python/client/session.py\u001b[0m in \u001b[0;36m_run_fn\u001b[0;34m(session, feed_dict, fetch_list, target_list, options, run_metadata)\u001b[0m\n\u001b[1;32m   1304\u001b[0m           return tf_session.TF_Run(session, options,\n\u001b[1;32m   1305\u001b[0m                                    \u001b[0mfeed_dict\u001b[0m\u001b[0;34m,\u001b[0m \u001b[0mfetch_list\u001b[0m\u001b[0;34m,\u001b[0m \u001b[0mtarget_list\u001b[0m\u001b[0;34m,\u001b[0m\u001b[0;34m\u001b[0m\u001b[0m\n\u001b[0;32m-> 1306\u001b[0;31m                                    status, run_metadata)\n\u001b[0m\u001b[1;32m   1307\u001b[0m \u001b[0;34m\u001b[0m\u001b[0m\n\u001b[1;32m   1308\u001b[0m     \u001b[0;32mdef\u001b[0m \u001b[0m_prun_fn\u001b[0m\u001b[0;34m(\u001b[0m\u001b[0msession\u001b[0m\u001b[0;34m,\u001b[0m \u001b[0mhandle\u001b[0m\u001b[0;34m,\u001b[0m \u001b[0mfeed_dict\u001b[0m\u001b[0;34m,\u001b[0m \u001b[0mfetch_list\u001b[0m\u001b[0;34m)\u001b[0m\u001b[0;34m:\u001b[0m\u001b[0;34m\u001b[0m\u001b[0m\n",
      "\u001b[0;31mKeyboardInterrupt\u001b[0m: "
     ]
    }
   ],
   "source": [
    "train_model(input_to_softmax=model_end, \n",
    "            pickle_path='model_end.pickle', \n",
    "            save_model_path='model_end.h5', \n",
    "            epochs=24,\n",
    "            spectrogram=False) # change to False if you would like to use MFCC features"
   ]
  },
  {
   "cell_type": "markdown",
   "metadata": {},
   "source": [
    "__Question 2:__ Describe your final model architecture and your reasoning at each step.  \n",
    "\n",
    "__Answer:__ \n",
    "\n",
    "For above model, first I used 1 convolution layer which was foloowed by 2 recurrent GRU layers with batch normalisation.\n",
    "We can see validation loss started increasing after 10th epoch which indicates overfitting, hence I interrupted the kernel, lets try out adding dropout to this architecture in the next design.\n"
   ]
  },
  {
   "cell_type": "code",
   "execution_count": 49,
   "metadata": {},
   "outputs": [
    {
     "name": "stdout",
     "output_type": "stream",
     "text": [
      "_________________________________________________________________\n",
      "Layer (type)                 Output Shape              Param #   \n",
      "=================================================================\n",
      "the_input (InputLayer)       (None, None, 13)          0         \n",
      "_________________________________________________________________\n",
      "conv1d (Conv1D)              (None, None, 200)         34000     \n",
      "_________________________________________________________________\n",
      "bn_conv_1d (BatchNormalizati (None, None, 200)         800       \n",
      "_________________________________________________________________\n",
      "rnn1 (GRU)                   (None, None, 100)         90300     \n",
      "_________________________________________________________________\n",
      "bn_rnn1 (BatchNormalization) (None, None, 100)         400       \n",
      "_________________________________________________________________\n",
      "rnn2 (GRU)                   (None, None, 100)         60300     \n",
      "_________________________________________________________________\n",
      "bn_rnn2 (BatchNormalization) (None, None, 100)         400       \n",
      "_________________________________________________________________\n",
      "rnn3 (GRU)                   (None, None, 100)         60300     \n",
      "_________________________________________________________________\n",
      "bn_rnn3 (BatchNormalization) (None, None, 100)         400       \n",
      "_________________________________________________________________\n",
      "time_dense (TimeDistributed) (None, None, 29)          2929      \n",
      "_________________________________________________________________\n",
      "softmax (Activation)         (None, None, 29)          0         \n",
      "=================================================================\n",
      "Total params: 249,829\n",
      "Trainable params: 248,829\n",
      "Non-trainable params: 1,000\n",
      "_________________________________________________________________\n",
      "None\n"
     ]
    }
   ],
   "source": [
    "# specify the model\n",
    "model_end = final_model(input_dim=13, # change to 13 if you would like to use MFCC features\n",
    "    filters=200,\n",
    "    kernel_size=13,\n",
    "    conv_stride=3,\n",
    "    conv_border_mode='same',\n",
    "    units=100)"
   ]
  },
  {
   "cell_type": "code",
   "execution_count": 50,
   "metadata": {},
   "outputs": [
    {
     "name": "stdout",
     "output_type": "stream",
     "text": [
      "Epoch 1/24\n",
      "101/101 [==============================] - 242s 2s/step - loss: 241.1132 - val_loss: 213.9859\n",
      "Epoch 2/24\n",
      "101/101 [==============================] - 235s 2s/step - loss: 197.7475 - val_loss: 173.6517\n",
      "Epoch 3/24\n",
      "101/101 [==============================] - 237s 2s/step - loss: 172.6858 - val_loss: 160.4591\n",
      "Epoch 4/24\n",
      "101/101 [==============================] - 236s 2s/step - loss: 160.4822 - val_loss: 148.6711\n",
      "Epoch 5/24\n",
      "101/101 [==============================] - 237s 2s/step - loss: 152.1590 - val_loss: 146.6516\n",
      "Epoch 6/24\n",
      "101/101 [==============================] - 239s 2s/step - loss: 145.8659 - val_loss: 138.9319\n",
      "Epoch 7/24\n",
      "101/101 [==============================] - 238s 2s/step - loss: 140.5493 - val_loss: 136.5686\n",
      "Epoch 8/24\n",
      "101/101 [==============================] - 238s 2s/step - loss: 136.7481 - val_loss: 133.9823\n",
      "Epoch 9/24\n",
      "101/101 [==============================] - 235s 2s/step - loss: 133.4728 - val_loss: 129.7372\n",
      "Epoch 10/24\n",
      "101/101 [==============================] - 237s 2s/step - loss: 130.5024 - val_loss: 129.6057\n",
      "Epoch 11/24\n",
      "101/101 [==============================] - 233s 2s/step - loss: 128.0141 - val_loss: 128.6172\n",
      "Epoch 12/24\n",
      "101/101 [==============================] - 237s 2s/step - loss: 125.8108 - val_loss: 126.3733\n",
      "Epoch 13/24\n",
      "101/101 [==============================] - 240s 2s/step - loss: 123.4094 - val_loss: 125.3629\n",
      "Epoch 14/24\n",
      "101/101 [==============================] - 237s 2s/step - loss: 121.9659 - val_loss: 123.9148\n",
      "Epoch 15/24\n",
      "101/101 [==============================] - 237s 2s/step - loss: 119.4079 - val_loss: 118.2172\n",
      "Epoch 16/24\n",
      "101/101 [==============================] - 237s 2s/step - loss: 118.2462 - val_loss: 120.7382\n",
      "Epoch 17/24\n",
      "101/101 [==============================] - 236s 2s/step - loss: 117.0151 - val_loss: 120.1774\n",
      "Epoch 18/24\n",
      "101/101 [==============================] - 238s 2s/step - loss: 115.5371 - val_loss: 121.1348\n",
      "Epoch 19/24\n",
      "101/101 [==============================] - 235s 2s/step - loss: 114.1764 - val_loss: 118.7869\n",
      "Epoch 20/24\n",
      "101/101 [==============================] - 237s 2s/step - loss: 112.7553 - val_loss: 118.4398\n",
      "Epoch 21/24\n",
      "101/101 [==============================] - 238s 2s/step - loss: 111.7881 - val_loss: 118.2841\n",
      "Epoch 22/24\n",
      "101/101 [==============================] - 235s 2s/step - loss: 110.4748 - val_loss: 117.1678\n",
      "Epoch 23/24\n",
      "101/101 [==============================] - 233s 2s/step - loss: 108.7839 - val_loss: 116.8204\n",
      "Epoch 24/24\n",
      "101/101 [==============================] - 237s 2s/step - loss: 108.2529 - val_loss: 118.1506\n"
     ]
    }
   ],
   "source": [
    "train_model(input_to_softmax=model_end, \n",
    "            pickle_path='model_end.pickle', \n",
    "            save_model_path='model_end.h5', \n",
    "            epochs=24,\n",
    "            spectrogram=False) # change to False if you would like to use MFCC features"
   ]
  },
  {
   "cell_type": "markdown",
   "metadata": {},
   "source": [
    "Question 2: Describe your final model architecture and your reasoning at each step.\n",
    "\n",
    "Answer:\n",
    "\n",
    "For this model, first I used 1 convolution layers with baych normalisation which was followed by 3 recurrent GRU layers with batch normalisation. The key difference here compared to previous models is drop out. as all previous models sufferd overfitting, here this model did not have validation loss increasing compared to training loss as epochs progressed. This models did give best performance compared to all models. 1 convolution layer able to deal with MFCC features by creating new features by uising 200 filter which are then passsed through 3 GRU layers.\n",
    "\n",
    "You might notice I have not applied drop out to final GRU layer as Deep RNN generally struggles to learn if drop out applied to final layer.\n",
    "\n"
   ]
  },
  {
   "cell_type": "markdown",
   "metadata": {},
   "source": [
    "<a id='step3'></a>\n",
    "## STEP 3: Obtain Predictions\n",
    "\n",
    "We have written a function for you to decode the predictions of your acoustic model.  To use the function, please execute the code cell below."
   ]
  },
  {
   "cell_type": "code",
   "execution_count": null,
   "metadata": {},
   "outputs": [],
   "source": []
  },
  {
   "cell_type": "code",
   "execution_count": 65,
   "metadata": {},
   "outputs": [],
   "source": [
    "import numpy as np\n",
    "from data_generator import AudioGenerator\n",
    "from keras import backend as K\n",
    "from utils import int_sequence_to_text\n",
    "from IPython.display import Audio\n",
    "\n",
    "def get_predictions(index, partition, input_to_softmax, model_path):\n",
    "    \"\"\" Print a model's decoded predictions\n",
    "    Params:\n",
    "        index (int): The example you would like to visualize\n",
    "        partition (str): One of 'train' or 'validation'\n",
    "        input_to_softmax (Model): The acoustic model\n",
    "        model_path (str): Path to saved acoustic model's weights\n",
    "    \"\"\"\n",
    "    # load the train and test data\n",
    "    data_gen = AudioGenerator(spectrogram=False)\n",
    "    data_gen.load_train_data()\n",
    "    data_gen.load_validation_data()\n",
    "    \n",
    "    # obtain the true transcription and the audio features \n",
    "    if partition == 'validation':\n",
    "        transcr = data_gen.valid_texts[index]\n",
    "        audio_path = data_gen.valid_audio_paths[index]\n",
    "        data_point = data_gen.normalize(data_gen.featurize(audio_path))\n",
    "    elif partition == 'train':\n",
    "        transcr = data_gen.train_texts[index]\n",
    "        audio_path = data_gen.train_audio_paths[index]\n",
    "        data_point = data_gen.normalize(data_gen.featurize(audio_path))\n",
    "    else:\n",
    "        raise Exception('Invalid partition!  Must be \"train\" or \"validation\"')\n",
    "        \n",
    "    # obtain and decode the acoustic model's predictions\n",
    "    input_to_softmax.load_weights(model_path)\n",
    "    prediction = input_to_softmax.predict(np.expand_dims(data_point, axis=0))\n",
    "    output_length = [input_to_softmax.output_length(data_point.shape[0])] \n",
    "    pred_ints = (K.eval(K.ctc_decode(\n",
    "                prediction, output_length)[0][0])+1).flatten().tolist()\n",
    "    \n",
    "    # play the audio file, and display the true and predicted transcriptions\n",
    "    print('-'*80)\n",
    "    Audio(audio_path)\n",
    "    print('True transcription:\\n' + '\\n' + transcr)\n",
    "    print('-'*80)\n",
    "    print('Predicted transcription:\\n' + '\\n' + ''.join(int_sequence_to_text(pred_ints)))\n",
    "    print('-'*80)"
   ]
  },
  {
   "cell_type": "markdown",
   "metadata": {},
   "source": [
    "Use the code cell below to obtain the transcription predicted by your final model for the first example in the training dataset."
   ]
  },
  {
   "cell_type": "code",
   "execution_count": 66,
   "metadata": {},
   "outputs": [
    {
     "name": "stdout",
     "output_type": "stream",
     "text": [
      "_________________________________________________________________\n",
      "Layer (type)                 Output Shape              Param #   \n",
      "=================================================================\n",
      "the_input (InputLayer)       (None, None, 13)          0         \n",
      "_________________________________________________________________\n",
      "conv1d (Conv1D)              (None, None, 200)         34000     \n",
      "_________________________________________________________________\n",
      "bn_conv_1d (BatchNormalizati (None, None, 200)         800       \n",
      "_________________________________________________________________\n",
      "rnn1 (GRU)                   (None, None, 100)         90300     \n",
      "_________________________________________________________________\n",
      "bn_rnn1 (BatchNormalization) (None, None, 100)         400       \n",
      "_________________________________________________________________\n",
      "rnn2 (GRU)                   (None, None, 100)         60300     \n",
      "_________________________________________________________________\n",
      "bn_rnn2 (BatchNormalization) (None, None, 100)         400       \n",
      "_________________________________________________________________\n",
      "rnn3 (GRU)                   (None, None, 100)         60300     \n",
      "_________________________________________________________________\n",
      "bn_rnn3 (BatchNormalization) (None, None, 100)         400       \n",
      "_________________________________________________________________\n",
      "time_dense (TimeDistributed) (None, None, 29)          2929      \n",
      "_________________________________________________________________\n",
      "softmax (Activation)         (None, None, 29)          0         \n",
      "=================================================================\n",
      "Total params: 249,829\n",
      "Trainable params: 248,829\n",
      "Non-trainable params: 1,000\n",
      "_________________________________________________________________\n",
      "None\n",
      "--------------------------------------------------------------------------------\n",
      "True transcription:\n",
      "\n",
      "her father is a most remarkable person to say the least\n",
      "--------------------------------------------------------------------------------\n",
      "Predicted transcription:\n",
      "\n",
      "ter fothers am mostero marck able parsento sathe last\n",
      "--------------------------------------------------------------------------------\n"
     ]
    }
   ],
   "source": [
    "get_predictions(index=0, \n",
    "                partition='train',\n",
    "                input_to_softmax=final_model(input_dim=13, filters=200,kernel_size=13,conv_stride=3,conv_border_mode='same',\n",
    "                units=100), \n",
    "                model_path='results/model_end.h5')"
   ]
  },
  {
   "cell_type": "markdown",
   "metadata": {},
   "source": [
    "Use the next code cell to visualize the model's prediction for the first example in the validation dataset."
   ]
  },
  {
   "cell_type": "code",
   "execution_count": 68,
   "metadata": {},
   "outputs": [
    {
     "name": "stdout",
     "output_type": "stream",
     "text": [
      "_________________________________________________________________\n",
      "Layer (type)                 Output Shape              Param #   \n",
      "=================================================================\n",
      "the_input (InputLayer)       (None, None, 13)          0         \n",
      "_________________________________________________________________\n",
      "conv1d (Conv1D)              (None, None, 200)         34000     \n",
      "_________________________________________________________________\n",
      "bn_conv_1d (BatchNormalizati (None, None, 200)         800       \n",
      "_________________________________________________________________\n",
      "rnn1 (GRU)                   (None, None, 100)         90300     \n",
      "_________________________________________________________________\n",
      "bn_rnn1 (BatchNormalization) (None, None, 100)         400       \n",
      "_________________________________________________________________\n",
      "rnn2 (GRU)                   (None, None, 100)         60300     \n",
      "_________________________________________________________________\n",
      "bn_rnn2 (BatchNormalization) (None, None, 100)         400       \n",
      "_________________________________________________________________\n",
      "rnn3 (GRU)                   (None, None, 100)         60300     \n",
      "_________________________________________________________________\n",
      "bn_rnn3 (BatchNormalization) (None, None, 100)         400       \n",
      "_________________________________________________________________\n",
      "time_dense (TimeDistributed) (None, None, 29)          2929      \n",
      "_________________________________________________________________\n",
      "softmax (Activation)         (None, None, 29)          0         \n",
      "=================================================================\n",
      "Total params: 249,829\n",
      "Trainable params: 248,829\n",
      "Non-trainable params: 1,000\n",
      "_________________________________________________________________\n",
      "None\n",
      "--------------------------------------------------------------------------------\n",
      "True transcription:\n",
      "\n",
      "the bogus legislature numbered thirty six members\n",
      "--------------------------------------------------------------------------------\n",
      "Predicted transcription:\n",
      "\n",
      "the bov is lidteislactre no ber therysixmeveers\n",
      "--------------------------------------------------------------------------------\n"
     ]
    }
   ],
   "source": [
    "\n",
    "\n",
    "get_predictions(index=0, \n",
    "                partition='validation',\n",
    "                input_to_softmax=final_model(input_dim=13, filters=200,kernel_size=13,conv_stride=3,conv_border_mode='same',\n",
    "                units=100), \n",
    "                model_path='results/model_end.h5')"
   ]
  },
  {
   "cell_type": "markdown",
   "metadata": {},
   "source": [
    "One standard way to improve the results of the decoder is to incorporate a language model.  We won't pursue this in the notebook, but you are welcome to do so as an _optional extension_. \n",
    "\n",
    "If you are interested in creating models that provide improved transcriptions, you are encouraged to download [more data](http://www.openslr.org/12/) and train bigger, deeper models.  But beware - the model will likely take a long while to train.  For instance, training this [state-of-the-art](https://arxiv.org/pdf/1512.02595v1.pdf) model would take 3-6 weeks on a single GPU!"
   ]
  }
 ],
 "metadata": {
  "anaconda-cloud": {},
  "kernelspec": {
   "display_name": "Python 3",
   "language": "python",
   "name": "python3"
  },
  "language_info": {
   "codemirror_mode": {
    "name": "ipython",
    "version": 3
   },
   "file_extension": ".py",
   "mimetype": "text/x-python",
   "name": "python",
   "nbconvert_exporter": "python",
   "pygments_lexer": "ipython3",
   "version": "3.6.3"
  }
 },
 "nbformat": 4,
 "nbformat_minor": 2
}
